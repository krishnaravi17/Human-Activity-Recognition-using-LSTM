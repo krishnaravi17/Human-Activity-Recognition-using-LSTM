{
  "nbformat": 4,
  "nbformat_minor": 0,
  "metadata": {
    "colab": {
      "name": "Human Act Recog Using LSTM ravi.ipynb",
      "version": "0.3.2",
      "provenance": [],
      "collapsed_sections": [
        "KxdfJXITYMdW"
      ]
    },
    "kernelspec": {
      "display_name": "Python 3",
      "language": "python",
      "name": "python3"
    }
  },
  "cells": [
    {
      "metadata": {
        "id": "h8qVOzJ-VuRG",
        "colab_type": "text"
      },
      "cell_type": "markdown",
      "source": [
        "# Human Activity Recongnition Using LSTM"
      ]
    },
    {
      "metadata": {
        "id": "X0Wpw2_oVuRJ",
        "colab_type": "text"
      },
      "cell_type": "markdown",
      "source": [
        "This project is to build a model that predicts the human activities such as Walking, Walking_Upstairs, Walking_Downstairs, Sitting, Standing and Laying.\n",
        "\n",
        "This dataset is collected from 30 persons(referred as subjects in this dataset), performing different activities with a smartphone to their waists. The data is recorded with the help of sensors (accelerometer and Gyroscope) in that smartphone. This experiment was video recorded to label the data manually.\n",
        "\n",
        "### How data was recorded\n",
        "\n",
        "By using the sensors(Gyroscope and accelerometer) in a smartphone, they have captured '3-axial linear acceleration'(_tAcc-XYZ_) from accelerometer and '3-axial angular velocity' (_tGyro-XYZ_) from Gyroscope with several variations. \n",
        "\n",
        "> prefix 't' in those metrics denotes time.\n",
        "\n",
        "> suffix 'XYZ' represents 3-axial signals in X , Y, and Z directions.\n",
        "\n",
        "### Feature names\n",
        "\n",
        "1. These sensor signals are preprocessed by applying noise filters and then sampled in fixed-width windows(sliding windows) of \n",
        "\n",
        "    2.56 seconds each with 50% overlap. ie., each window has 128 readings. \n",
        "\n",
        "\n",
        "2. From Each window, a feature vector was obtianed by calculating variables from the time and frequency domain.\n",
        "> In our dataset, each datapoint represents a window with different readings \n",
        "\n",
        "3. The accelertion signal was saperated into Body and Gravity acceleration signals(___tBodyAcc-XYZ___ and ___tGravityAcc-XYZ___) using some low pass filter with corner frequecy of 0.3Hz.\n",
        "\n",
        "\n",
        "4. After that, the body linear acceleration and angular velocity were derived in time to obtian _jerk signals_ (___tBodyAccJerk-XYZ___ and ___tBodyGyroJerk-XYZ___). \n",
        "\n",
        "\n",
        "5. The magnitude of these 3-dimensional signals were calculated using the Euclidian norm. This magnitudes are represented as features with names like _tBodyAccMag_, _tGravityAccMag_, _tBodyAccJerkMag_, _tBodyGyroMag_ and _tBodyGyroJerkMag_.\n",
        "\n",
        "\n",
        "6. Finally, We've got frequency domain signals from some of the available signals by applying a FFT (Fast Fourier Transform). These signals obtained were labeled with ___prefix 'f'___ just like original signals with ___prefix 't'___. These signals are labeled as ___fBodyAcc-XYZ___, ___fBodyGyroMag___ etc.,.\n",
        "\n",
        "\n",
        "7. These are the signals that we got so far.\n",
        "\n",
        "\t+ tBodyAcc-XYZ\n",
        "\t+ tGravityAcc-XYZ\n",
        "\t+ tBodyAccJerk-XYZ\n",
        "\t+ tBodyGyro-XYZ\n",
        "\t+ tBodyGyroJerk-XYZ\n",
        "\t+ tBodyAccMag\n",
        "\t+ tGravityAccMag\n",
        "\t+ tBodyAccJerkMag\n",
        "\t+ tBodyGyroMag\n",
        "\t+ tBodyGyroJerkMag\n",
        "\t+ fBodyAcc-XYZ\n",
        "\t+ fBodyAccJerk-XYZ\n",
        "\t+ fBodyGyro-XYZ\n",
        "\t+ fBodyAccMag\n",
        "\t+ fBodyAccJerkMag\n",
        "\t+ fBodyGyroMag\n",
        "\t+ fBodyGyroJerkMag\n",
        "\n",
        "\n",
        "8. We can esitmate some set of variables from the above signals. ie., We will estimate the following properties on each and every signal that we recoreded so far.\n",
        "\n",
        "\t+ ___mean()___: Mean value\n",
        "\t+ ___std()___: Standard deviation\n",
        "\t+ ___mad()___: Median absolute deviation \n",
        "\t+ ___max()___: Largest value in array\n",
        "\t+ ___min()___: Smallest value in array\n",
        "\t+ ___sma()___: Signal magnitude area\n",
        "\t+ ___energy()___: Energy measure. Sum of the squares divided by the number of values. \n",
        "\t+ ___iqr()___: Interquartile range \n",
        "\t+ ___entropy()___: Signal entropy\n",
        "\t+ ___arCoeff()___: Autorregresion coefficients with Burg order equal to 4\n",
        "\t+ ___correlation()___: correlation coefficient between two signals\n",
        "\t+ ___maxInds()___: index of the frequency component with largest magnitude\n",
        "\t+ ___meanFreq()___: Weighted average of the frequency components to obtain a mean frequency\n",
        "\t+ ___skewness()___: skewness of the frequency domain signal \n",
        "\t+ ___kurtosis()___: kurtosis of the frequency domain signal \n",
        "\t+ ___bandsEnergy()___: Energy of a frequency interval within the 64 bins of the FFT of each window.\n",
        "\t+ ___angle()___: Angle between to vectors.\n",
        "\n",
        "\n",
        "9. We can obtain some other vectors by taking the average of signals in a single window sample. These are used on the angle() variable'\n",
        "`\n",
        "\t+ gravityMean\n",
        "\t+ tBodyAccMean\n",
        "\t+ tBodyAccJerkMean\n",
        "\t+ tBodyGyroMean\n",
        "\t+ tBodyGyroJerkMean\n",
        "\n",
        "\n",
        "### Y_Labels(Encoded)\n",
        "\n",
        "+ In the dataset, Y_labels are represented as numbers from 1 to 6 as their identifiers.\n",
        "\n",
        "\t- WALKING as __1__\n",
        "\t- WALKING_UPSTAIRS as __2__\n",
        "\t- WALKING_DOWNSTAIRS as __3__\n",
        "\t- SITTING as __4__\n",
        "\t- STANDING as __5__\n",
        "\t- LAYING as __6__\n",
        "    \n",
        "### Train and test data were saperated\n",
        " - The readings from ___70%___ of the volunteers were taken as ___trianing data___ and remaining ___30%___ subjects recordings were taken for ___test data___\n",
        " \n",
        "### Data\n",
        "\n",
        "* All the data is present in 'UCI_HAR_dataset/' folder in present working directory.\n",
        "     - Feature names are present in 'UCI_HAR_dataset/features.txt'\n",
        "     - ___Train Data___\n",
        "         - 'UCI_HAR_dataset/train/X_train.txt'\n",
        "         - 'UCI_HAR_dataset/train/subject_train.txt'\n",
        "         - 'UCI_HAR_dataset/train/y_train.txt'\n",
        "     - ___Test Data___\n",
        "         - 'UCI_HAR_dataset/test/X_test.txt'\n",
        "         - 'UCI_HAR_dataset/test/subject_test.txt'\n",
        "         - 'UCI_HAR_dataset/test/y_test.txt'\n",
        "         \n",
        "\n",
        "### Data Size :\n",
        "https://archive.ics.uci.edu/ml/datasets/Human+Activity+Recognition+Using+Smartphones\n",
        "> 27 MB\n"
      ]
    },
    {
      "metadata": {
        "id": "psB_xTXOVuRK",
        "colab_type": "text"
      },
      "cell_type": "markdown",
      "source": [
        "##  Quick overview of the dataset :\n"
      ]
    },
    {
      "metadata": {
        "id": "gOjBWflbVuRM",
        "colab_type": "text"
      },
      "cell_type": "markdown",
      "source": [
        "\n",
        "* Accelerometer and Gyroscope readings are taken from 30 volunteers(referred as subjects) while performing the following 6 Activities.\n",
        "\n",
        "    1. Walking     \n",
        "    2. WalkingUpstairs \n",
        "    3. WalkingDownstairs \n",
        "    4. Standing \n",
        "    5. Sitting \n",
        "    6. Lying.\n",
        "\n",
        "\n",
        "* Readings are divided into a window of 2.56 seconds with 50% overlapping. \n",
        "\n",
        "* Accelerometer readings are divided into gravity acceleration and body acceleration readings,\n",
        "  which has x,y and z components each.\n",
        "\n",
        "* Gyroscope readings are the measure of angular velocities which has x,y and z components.\n",
        "\n",
        "* Jerk signals are calculated for BodyAcceleration readings.\n",
        "\n",
        "* Fourier Transforms are made on the above time readings to obtain frequency readings.\n",
        "\n",
        "* Now, on all the base signal readings., mean, max, mad, sma, arcoefficient, engerybands,entropy etc., are calculated for each window.\n",
        "\n",
        "* We get a feature vector of 561 features and these features are given in the dataset.\n",
        "\n",
        "* Each window of readings is a datapoint of 561 features.\n",
        "\n",
        "### Problem Framework\n",
        "\n",
        "* 30 subjects(volunteers) data is randomly split to 70%(21) test and 30%(7) train data.\n",
        "* Each datapoint corresponds one of the 6 Activities.\n"
      ]
    },
    {
      "metadata": {
        "id": "prmXTibhVuRN",
        "colab_type": "text"
      },
      "cell_type": "markdown",
      "source": [
        "## Problem Statement (Objective):\n",
        "\n",
        " + Given a new datapoint we have to predict the Activity"
      ]
    },
    {
      "metadata": {
        "id": "YSCfUa7oVuRP",
        "colab_type": "text"
      },
      "cell_type": "markdown",
      "source": [
        "### Importing all neccessary Libraries"
      ]
    },
    {
      "metadata": {
        "id": "v5OxVV5JVuRR",
        "colab_type": "code",
        "colab": {}
      },
      "cell_type": "code",
      "source": [
        "import pandas as pd\n",
        "import numpy as np\n",
        "#from keras.models import Sequential\n",
        "from keras.layers import LSTM\n",
        "from keras import backend as K\n",
        "#from keras.layers.core import Dense, Dropout\n",
        "import pdb\n",
        "from keras.layers.normalization import BatchNormalization\n",
        "from keras.models import Sequential\n",
        "from keras.layers import Dense, Dropout, Flatten\n",
        "from keras.layers import Conv2D, MaxPooling2D"
      ],
      "execution_count": 0,
      "outputs": []
    },
    {
      "metadata": {
        "id": "fjd5Lj81VuRb",
        "colab_type": "text"
      },
      "cell_type": "markdown",
      "source": [
        "### Loading data and Defining methods "
      ]
    },
    {
      "metadata": {
        "id": "M6grObZAV-2H",
        "colab_type": "code",
        "outputId": "f3008a0c-d28f-4b8b-8341-ce162d80a5a5",
        "colab": {
          "base_uri": "https://localhost:8080/",
          "height": 35
        }
      },
      "cell_type": "code",
      "source": [
        "# Load the Drive helper and mount\n",
        "from google.colab import drive\n",
        "# This will prompt for authorization.\n",
        "drive.mount('/content/drive')"
      ],
      "execution_count": 26,
      "outputs": [
        {
          "output_type": "stream",
          "text": [
            "Drive already mounted at /content/drive; to attempt to forcibly remount, call drive.mount(\"/content/drive\", force_remount=True).\n"
          ],
          "name": "stdout"
        }
      ]
    },
    {
      "metadata": {
        "id": "P5LTp11XWAgE",
        "colab_type": "code",
        "colab": {}
      },
      "cell_type": "code",
      "source": [
        "#loading from drive\n",
        "#filtered_data=pd.read_csv('/content/drive/My Drive/Colab Notebooks/Reviews.csv')\n",
        "#filtered_data=pd.read_csv('Reviews.csv')#displaying\n",
        "#filtered_data.head()\n",
        "#print(filtered_data.shape) #looking at the number of attributes and size of the data\n",
        "#filtered_data.head()"
      ],
      "execution_count": 0,
      "outputs": []
    },
    {
      "metadata": {
        "id": "jesOwMWdRulG",
        "colab_type": "code",
        "colab": {}
      },
      "cell_type": "code",
      "source": [
        "#this function will draw graph in every epoch updates\n",
        "\n",
        "# https://gist.github.com/greydanus/f6eee59eaf1d90fcb3b534a25362cea4\n",
        "# https://stackoverflow.com/a/14434334\n",
        "# this function is used to update the plots for each epoch and error\n",
        "import matplotlib.pyplot as plt\n",
        "\n",
        "def plt_dynamic(x, vy, ty, ax, colors=['b']):\n",
        "  ax.plot(x, vy, 'b', label=\"Validation Loss\")\n",
        "  ax.plot(x, ty, 'r', label=\"Train Loss\")\n",
        "  plt.legend()\n",
        "  plt.grid()\n",
        "  fig.canvas.draw()"
      ],
      "execution_count": 0,
      "outputs": []
    },
    {
      "metadata": {
        "id": "q8cC6NA8VuRc",
        "colab_type": "code",
        "colab": {}
      },
      "cell_type": "code",
      "source": [
        "# Data directory\n",
        "DATADIR = 'UCI_HAR_Dataset'"
      ],
      "execution_count": 0,
      "outputs": []
    },
    {
      "metadata": {
        "id": "oIjD6FVfVuRh",
        "colab_type": "code",
        "colab": {}
      },
      "cell_type": "code",
      "source": [
        "# Raw data signals\n",
        "# Signals are from Accelerometer and Gyroscope\n",
        "# The signals are in x,y,z directions\n",
        "# Sensor signals are filtered to have only body acceleration\n",
        "# excluding the acceleration due to gravity\n",
        "# Triaxial acceleration from the accelerometer is total acceleration\n",
        "SIGNALS = [\n",
        "    \"body_acc_x\",\n",
        "    \"body_acc_y\",\n",
        "    \"body_acc_z\",\n",
        "    \"body_gyro_x\",\n",
        "    \"body_gyro_y\",\n",
        "    \"body_gyro_z\",\n",
        "    \"total_acc_x\",\n",
        "    \"total_acc_y\",\n",
        "    \"total_acc_z\"\n",
        "]"
      ],
      "execution_count": 0,
      "outputs": []
    },
    {
      "metadata": {
        "id": "81na9H6RVuRl",
        "colab_type": "code",
        "colab": {}
      },
      "cell_type": "code",
      "source": [
        "# Activities are the class labels\n",
        "# It is a 6 class classification\n",
        "ACTIVITIES = {\n",
        "    0: 'WALKING',\n",
        "    1: 'WALKING_UPSTAIRS',\n",
        "    2: 'WALKING_DOWNSTAIRS',\n",
        "    3: 'SITTING',\n",
        "    4: 'STANDING',\n",
        "    5: 'LAYING',\n",
        "}\n",
        "\n",
        "# Utility function to print the confusion matrix\n",
        "def confusion_matrix(Y_true, Y_pred):\n",
        "    Y_true = pd.Series([ACTIVITIES[y] for y in np.argmax(Y_true, axis=1)])\n",
        "    Y_pred = pd.Series([ACTIVITIES[y] for y in np.argmax(Y_pred, axis=1)])\n",
        "\n",
        "    return pd.crosstab(Y_true, Y_pred, rownames=['True'], colnames=['Pred'])"
      ],
      "execution_count": 0,
      "outputs": []
    },
    {
      "metadata": {
        "id": "uvQwNzLlVuRp",
        "colab_type": "code",
        "colab": {}
      },
      "cell_type": "code",
      "source": [
        "# Utility function to read the data from csv file\n",
        "def _read_csv(filename):\n",
        "    return pd.read_csv(filename, delim_whitespace=True, header=None)\n",
        "\n",
        "# Utility function to load the load\n",
        "def load_signals(subset):\n",
        "    signals_data = []\n",
        "    #pdb.set_trace()\n",
        "    for signal in SIGNALS:\n",
        "        filename = f'/content/drive/My Drive/Colab Notebooks/UCI_HAR_Dataset/{subset}/Inertial Signals/{signal}_{subset}.txt'\n",
        "        #UCI_HAR_Dataset/train/Inertial Signals/body_acc_x_train.txt-internal location where file is being placed.\n",
        "        signals_data.append(\n",
        "            _read_csv(filename).as_matrix()\n",
        "        ) \n",
        "    #pdb.set_trace()\n",
        "    # Transpose is used to change the dimensionality of the output,\n",
        "    # aggregating the signals by combination of sample/timestep.\n",
        "    # Resultant shape is (7352 train/2947 test samples, 128 timesteps, 9 signals)\n",
        "    return np.transpose(signals_data, (1, 2, 0))"
      ],
      "execution_count": 0,
      "outputs": []
    },
    {
      "metadata": {
        "id": "cVRV_bJeVuRt",
        "colab_type": "code",
        "colab": {}
      },
      "cell_type": "code",
      "source": [
        "\n",
        "def load_y(subset):\n",
        "    \"\"\"\n",
        "    The objective that we are trying to predict is a integer, from 1 to 6,\n",
        "    that represents a human activity. We return a binary representation of \n",
        "    every sample objective as a 6 bits vector using One Hot Encoding\n",
        "    (https://pandas.pydata.org/pandas-docs/stable/generated/pandas.get_dummies.html)\n",
        "    \"\"\"\n",
        "    #pdb.set_trace()\n",
        "    filename = f'/content/drive/My Drive/Colab Notebooks/UCI_HAR_Dataset/{subset}/y_{subset}.txt'\n",
        "    y = _read_csv(filename)[0]\n",
        "    #pdb.set_trace()\n",
        "    return pd.get_dummies(y).as_matrix()"
      ],
      "execution_count": 0,
      "outputs": []
    },
    {
      "metadata": {
        "id": "JPpXWDPmVuRz",
        "colab_type": "code",
        "colab": {}
      },
      "cell_type": "code",
      "source": [
        "def load_data():\n",
        "    \"\"\"\n",
        "    Obtain the dataset from multiple files.\n",
        "    Returns: X_train, X_test, y_train, y_test\n",
        "    \"\"\"\n",
        "    #pdb.set_trace()\n",
        "    X_train, X_test = load_signals('train'), load_signals('test')\n",
        "    y_train, y_test = load_y('train'), load_y('test')\n",
        "    #pdb.set_trace()\n",
        "    return X_train, X_test, y_train, y_test"
      ],
      "execution_count": 0,
      "outputs": []
    },
    {
      "metadata": {
        "id": "CA-3fL12VuR3",
        "colab_type": "code",
        "colab": {}
      },
      "cell_type": "code",
      "source": [
        "# Importing tensorflow\n",
        "np.random.seed(42)\n",
        "import tensorflow as tf\n",
        "tf.set_random_seed(42)"
      ],
      "execution_count": 0,
      "outputs": []
    },
    {
      "metadata": {
        "id": "vJum61_jVuR9",
        "colab_type": "code",
        "colab": {}
      },
      "cell_type": "code",
      "source": [
        "# Configuring a session\n",
        "session_conf = tf.ConfigProto(\n",
        "    intra_op_parallelism_threads=1,\n",
        "    inter_op_parallelism_threads=1\n",
        ")"
      ],
      "execution_count": 0,
      "outputs": []
    },
    {
      "metadata": {
        "id": "2cbcqBA4VuSB",
        "colab_type": "code",
        "colab": {}
      },
      "cell_type": "code",
      "source": [
        "# Import Keras\n",
        "from keras import backend as K\n",
        "sess = tf.Session(graph=tf.get_default_graph(), config=session_conf)\n",
        "K.set_session(sess)"
      ],
      "execution_count": 0,
      "outputs": []
    },
    {
      "metadata": {
        "id": "tVwDmpq_VuSI",
        "colab_type": "code",
        "colab": {}
      },
      "cell_type": "code",
      "source": [
        "# Utility function to count the number of classes\n",
        "def _count_classes(y):\n",
        "    return len(set([tuple(category) for category in y]))"
      ],
      "execution_count": 0,
      "outputs": []
    },
    {
      "metadata": {
        "id": "dRSq0bDxVuSN",
        "colab_type": "code",
        "colab": {}
      },
      "cell_type": "code",
      "source": [
        "# Loading the train and test data\n",
        "#pdb.set_trace()\n",
        "X_train, X_test, Y_train, Y_test = load_data()\n",
        "#pdb.set_trace()"
      ],
      "execution_count": 0,
      "outputs": []
    },
    {
      "metadata": {
        "id": "0reX5swLVuSR",
        "colab_type": "code",
        "outputId": "6d66ae53-c77c-4131-e2ee-d3d5a070ca6d",
        "colab": {
          "base_uri": "https://localhost:8080/",
          "height": 90
        }
      },
      "cell_type": "code",
      "source": [
        "timesteps = len(X_train[0])\n",
        "input_dim = len(X_train[0][0])\n",
        "n_classes = _count_classes(Y_train)\n",
        "\n",
        "print(timesteps)\n",
        "print(input_dim)\n",
        "print(len(X_train))\n",
        "print(n_classes)"
      ],
      "execution_count": 40,
      "outputs": [
        {
          "output_type": "stream",
          "text": [
            "128\n",
            "9\n",
            "7352\n",
            "6\n"
          ],
          "name": "stdout"
        }
      ]
    },
    {
      "metadata": {
        "id": "0650QUjFPfJV",
        "colab_type": "code",
        "outputId": "e73525d0-ae74-445f-b172-5d42f222a26d",
        "colab": {
          "base_uri": "https://localhost:8080/",
          "height": 35
        }
      },
      "cell_type": "code",
      "source": [
        "print(X_train.shape)"
      ],
      "execution_count": 41,
      "outputs": [
        {
          "output_type": "stream",
          "text": [
            "(7352, 128, 9)\n"
          ],
          "name": "stdout"
        }
      ]
    },
    {
      "metadata": {
        "id": "KxdfJXITYMdW",
        "colab_type": "text"
      },
      "cell_type": "markdown",
      "source": [
        "### LSTM with 3 layered Architecture"
      ]
    },
    {
      "metadata": {
        "id": "wkNEoQGQOlz_",
        "colab_type": "code",
        "colab": {}
      },
      "cell_type": "code",
      "source": [
        "# Initializing parameters\n",
        "epochs = 100\n",
        "batch_size = 64\n",
        "n_hidden_for_layer1 = 64\n",
        "n_hidden_for_layer2 = 32\n",
        "n_hidden_for_layer3 = 16"
      ],
      "execution_count": 0,
      "outputs": []
    },
    {
      "metadata": {
        "id": "I8wXVZYoVuSW",
        "colab_type": "code",
        "outputId": "29a71908-3ce7-42f9-bd21-4852ec19dfd0",
        "colab": {
          "base_uri": "https://localhost:8080/",
          "height": 637
        }
      },
      "cell_type": "code",
      "source": [
        "# Initiliazing the sequential model\n",
        "model = Sequential()\n",
        "\n",
        "# Configuring the parameters\n",
        "model.add(LSTM(n_hidden_for_layer1,return_sequences=True ,input_shape=(timesteps, input_dim)))#layer 1\n",
        "model.add(BatchNormalization())\n",
        "model.add(Dropout(0.5))# Adding a dropout layer\n",
        "\n",
        "model.add(LSTM(n_hidden_for_layer2, return_sequences=True))#layer 2\n",
        "model.add(BatchNormalization())\n",
        "model.add(Dropout(0.25))# Adding a dropout layer\n",
        "\n",
        "model.add(LSTM(n_hidden_for_layer3))#layer 3\n",
        "model.add(BatchNormalization())\n",
        "model.add(Dropout(0.25))# Adding a dropout layer\n",
        "\n",
        "model.add(Dense(n_classes, activation='sigmoid'))# Adding a dense output layer with sigmoid activation\n",
        "\n",
        "model.summary()\n"
      ],
      "execution_count": 0,
      "outputs": [
        {
          "output_type": "stream",
          "text": [
            "WARNING:tensorflow:From /usr/local/lib/python3.6/dist-packages/tensorflow/python/framework/op_def_library.py:263: colocate_with (from tensorflow.python.framework.ops) is deprecated and will be removed in a future version.\n",
            "Instructions for updating:\n",
            "Colocations handled automatically by placer.\n",
            "WARNING:tensorflow:From /usr/local/lib/python3.6/dist-packages/keras/backend/tensorflow_backend.py:3445: calling dropout (from tensorflow.python.ops.nn_ops) with keep_prob is deprecated and will be removed in a future version.\n",
            "Instructions for updating:\n",
            "Please use `rate` instead of `keep_prob`. Rate should be set to `rate = 1 - keep_prob`.\n",
            "_________________________________________________________________\n",
            "Layer (type)                 Output Shape              Param #   \n",
            "=================================================================\n",
            "lstm_1 (LSTM)                (None, 128, 64)           18944     \n",
            "_________________________________________________________________\n",
            "batch_normalization_1 (Batch (None, 128, 64)           256       \n",
            "_________________________________________________________________\n",
            "dropout_1 (Dropout)          (None, 128, 64)           0         \n",
            "_________________________________________________________________\n",
            "lstm_2 (LSTM)                (None, 128, 32)           12416     \n",
            "_________________________________________________________________\n",
            "batch_normalization_2 (Batch (None, 128, 32)           128       \n",
            "_________________________________________________________________\n",
            "dropout_2 (Dropout)          (None, 128, 32)           0         \n",
            "_________________________________________________________________\n",
            "lstm_3 (LSTM)                (None, 16)                3136      \n",
            "_________________________________________________________________\n",
            "batch_normalization_3 (Batch (None, 16)                64        \n",
            "_________________________________________________________________\n",
            "dropout_3 (Dropout)          (None, 16)                0         \n",
            "_________________________________________________________________\n",
            "dense_1 (Dense)              (None, 6)                 102       \n",
            "=================================================================\n",
            "Total params: 35,046\n",
            "Trainable params: 34,822\n",
            "Non-trainable params: 224\n",
            "_________________________________________________________________\n"
          ],
          "name": "stdout"
        }
      ]
    },
    {
      "metadata": {
        "id": "xzAW1twVVuSf",
        "colab_type": "code",
        "colab": {}
      },
      "cell_type": "code",
      "source": [
        "# Compiling the model\n",
        "#import keras\n",
        "model.compile(loss='categorical_crossentropy',optimizer='adam',metrics=['accuracy'])"
      ],
      "execution_count": 0,
      "outputs": []
    },
    {
      "metadata": {
        "id": "A8hp76dWVuSl",
        "colab_type": "code",
        "outputId": "2f18e350-47d9-4a27-825d-7be08d966aee",
        "colab": {
          "base_uri": "https://localhost:8080/",
          "height": 3783
        }
      },
      "cell_type": "code",
      "source": [
        "%%time\n",
        "# Training the model\n",
        "history =model.fit(X_train,Y_train,batch_size=batch_size,epochs=epochs,verbose=1,validation_data=(X_test, Y_test))\n"
      ],
      "execution_count": 0,
      "outputs": [
        {
          "output_type": "stream",
          "text": [
            "WARNING:tensorflow:From /usr/local/lib/python3.6/dist-packages/tensorflow/python/ops/math_ops.py:3066: to_int32 (from tensorflow.python.ops.math_ops) is deprecated and will be removed in a future version.\n",
            "Instructions for updating:\n",
            "Use tf.cast instead.\n",
            "Train on 7352 samples, validate on 2947 samples\n",
            "Epoch 1/100\n",
            "7352/7352 [==============================] - 47s 6ms/step - loss: 1.2220 - acc: 0.6488 - val_loss: 0.9960 - val_acc: 0.6644\n",
            "Epoch 2/100\n",
            "7352/7352 [==============================] - 43s 6ms/step - loss: 0.8506 - acc: 0.7965 - val_loss: 0.8774 - val_acc: 0.7204\n",
            "Epoch 3/100\n",
            "7352/7352 [==============================] - 43s 6ms/step - loss: 0.6519 - acc: 0.7991 - val_loss: 0.6140 - val_acc: 0.7394\n",
            "Epoch 4/100\n",
            "7352/7352 [==============================] - 43s 6ms/step - loss: 0.5195 - acc: 0.7994 - val_loss: 0.8060 - val_acc: 0.6644\n",
            "Epoch 5/100\n",
            "7352/7352 [==============================] - 43s 6ms/step - loss: 0.4460 - acc: 0.7904 - val_loss: 1.0925 - val_acc: 0.5663\n",
            "Epoch 6/100\n",
            "7352/7352 [==============================] - 43s 6ms/step - loss: 0.3738 - acc: 0.7992 - val_loss: 0.3675 - val_acc: 0.7784\n",
            "Epoch 7/100\n",
            "7352/7352 [==============================] - 44s 6ms/step - loss: 0.3346 - acc: 0.8081 - val_loss: 0.4674 - val_acc: 0.7526\n",
            "Epoch 8/100\n",
            "7352/7352 [==============================] - 42s 6ms/step - loss: 0.3169 - acc: 0.8088 - val_loss: 0.3996 - val_acc: 0.7642\n",
            "Epoch 9/100\n",
            "7352/7352 [==============================] - 42s 6ms/step - loss: 0.3079 - acc: 0.8056 - val_loss: 0.4150 - val_acc: 0.7689\n",
            "Epoch 10/100\n",
            "7352/7352 [==============================] - 43s 6ms/step - loss: 0.2790 - acc: 0.8147 - val_loss: 0.3737 - val_acc: 0.7723\n",
            "Epoch 11/100\n",
            "7352/7352 [==============================] - 43s 6ms/step - loss: 0.2949 - acc: 0.8100 - val_loss: 0.8208 - val_acc: 0.7085\n",
            "Epoch 12/100\n",
            "7352/7352 [==============================] - 43s 6ms/step - loss: 0.2832 - acc: 0.8172 - val_loss: 0.3649 - val_acc: 0.7716\n",
            "Epoch 13/100\n",
            "7352/7352 [==============================] - 43s 6ms/step - loss: 0.2667 - acc: 0.8229 - val_loss: 0.4103 - val_acc: 0.7805\n",
            "Epoch 14/100\n",
            "7352/7352 [==============================] - 45s 6ms/step - loss: 0.2567 - acc: 0.8347 - val_loss: 0.4510 - val_acc: 0.7696\n",
            "Epoch 15/100\n",
            "7352/7352 [==============================] - 43s 6ms/step - loss: 0.2408 - acc: 0.8428 - val_loss: 0.4562 - val_acc: 0.7662\n",
            "Epoch 16/100\n",
            "7352/7352 [==============================] - 43s 6ms/step - loss: 0.2608 - acc: 0.8470 - val_loss: 0.5195 - val_acc: 0.7424\n",
            "Epoch 17/100\n",
            "7352/7352 [==============================] - 43s 6ms/step - loss: 0.2522 - acc: 0.8583 - val_loss: 0.4247 - val_acc: 0.8113\n",
            "Epoch 18/100\n",
            "7352/7352 [==============================] - 43s 6ms/step - loss: 0.2404 - acc: 0.8777 - val_loss: 0.4361 - val_acc: 0.8907\n",
            "Epoch 19/100\n",
            "7352/7352 [==============================] - 43s 6ms/step - loss: 0.2450 - acc: 0.8925 - val_loss: 0.4287 - val_acc: 0.9087\n",
            "Epoch 20/100\n",
            "7352/7352 [==============================] - 43s 6ms/step - loss: 0.2418 - acc: 0.9272 - val_loss: 0.4017 - val_acc: 0.8979\n",
            "Epoch 21/100\n",
            "7352/7352 [==============================] - 45s 6ms/step - loss: 0.2091 - acc: 0.9335 - val_loss: 0.3324 - val_acc: 0.8931\n",
            "Epoch 22/100\n",
            "7352/7352 [==============================] - 43s 6ms/step - loss: 0.1654 - acc: 0.9418 - val_loss: 0.3531 - val_acc: 0.9152\n",
            "Epoch 23/100\n",
            "7352/7352 [==============================] - 43s 6ms/step - loss: 0.1465 - acc: 0.9452 - val_loss: 0.4196 - val_acc: 0.8286\n",
            "Epoch 24/100\n",
            "7352/7352 [==============================] - 43s 6ms/step - loss: 0.1630 - acc: 0.9357 - val_loss: 0.4674 - val_acc: 0.8836\n",
            "Epoch 25/100\n",
            "7352/7352 [==============================] - 43s 6ms/step - loss: 0.1453 - acc: 0.9468 - val_loss: 0.3811 - val_acc: 0.9091\n",
            "Epoch 26/100\n",
            "7352/7352 [==============================] - 43s 6ms/step - loss: 0.1384 - acc: 0.9464 - val_loss: 0.3058 - val_acc: 0.9186\n",
            "Epoch 27/100\n",
            "7352/7352 [==============================] - 43s 6ms/step - loss: 0.1328 - acc: 0.9493 - val_loss: 0.3468 - val_acc: 0.9152\n",
            "Epoch 28/100\n",
            "7352/7352 [==============================] - 44s 6ms/step - loss: 0.1691 - acc: 0.9427 - val_loss: 0.5402 - val_acc: 0.8755\n",
            "Epoch 29/100\n",
            "7352/7352 [==============================] - 43s 6ms/step - loss: 0.1407 - acc: 0.9472 - val_loss: 0.3543 - val_acc: 0.9067\n",
            "Epoch 30/100\n",
            "7352/7352 [==============================] - 43s 6ms/step - loss: 0.1416 - acc: 0.9482 - val_loss: 0.3281 - val_acc: 0.9026\n",
            "Epoch 31/100\n",
            "7352/7352 [==============================] - 43s 6ms/step - loss: 0.1395 - acc: 0.9457 - val_loss: 0.4422 - val_acc: 0.8802\n",
            "Epoch 32/100\n",
            "7352/7352 [==============================] - 43s 6ms/step - loss: 0.1401 - acc: 0.9457 - val_loss: 0.3262 - val_acc: 0.9057\n",
            "Epoch 33/100\n",
            "7352/7352 [==============================] - 43s 6ms/step - loss: 0.1344 - acc: 0.9498 - val_loss: 0.3248 - val_acc: 0.9165\n",
            "Epoch 34/100\n",
            "7352/7352 [==============================] - 42s 6ms/step - loss: 0.1304 - acc: 0.9490 - val_loss: 0.2844 - val_acc: 0.9209\n",
            "Epoch 35/100\n",
            "7352/7352 [==============================] - 43s 6ms/step - loss: 0.1292 - acc: 0.9494 - val_loss: 0.2849 - val_acc: 0.9308\n",
            "Epoch 36/100\n",
            "7352/7352 [==============================] - 43s 6ms/step - loss: 0.1266 - acc: 0.9501 - val_loss: 0.3052 - val_acc: 0.9196\n",
            "Epoch 37/100\n",
            "7352/7352 [==============================] - 42s 6ms/step - loss: 0.1283 - acc: 0.9476 - val_loss: 0.3068 - val_acc: 0.9175\n",
            "Epoch 38/100\n",
            "7352/7352 [==============================] - 42s 6ms/step - loss: 0.1235 - acc: 0.9484 - val_loss: 0.4630 - val_acc: 0.8775\n",
            "Epoch 39/100\n",
            "7352/7352 [==============================] - 42s 6ms/step - loss: 0.1305 - acc: 0.9461 - val_loss: 0.4033 - val_acc: 0.8992\n",
            "Epoch 40/100\n",
            "7352/7352 [==============================] - 42s 6ms/step - loss: 0.1335 - acc: 0.9489 - val_loss: 0.3143 - val_acc: 0.9179\n",
            "Epoch 41/100\n",
            "7352/7352 [==============================] - 43s 6ms/step - loss: 0.1242 - acc: 0.9482 - val_loss: 0.3159 - val_acc: 0.9077\n",
            "Epoch 42/100\n",
            "7352/7352 [==============================] - 43s 6ms/step - loss: 0.1276 - acc: 0.9505 - val_loss: 0.3314 - val_acc: 0.9108\n",
            "Epoch 43/100\n",
            "7352/7352 [==============================] - 44s 6ms/step - loss: 0.1209 - acc: 0.9518 - val_loss: 0.2572 - val_acc: 0.9267\n",
            "Epoch 44/100\n",
            "7352/7352 [==============================] - 43s 6ms/step - loss: 0.1150 - acc: 0.9489 - val_loss: 0.2631 - val_acc: 0.9233\n",
            "Epoch 45/100\n",
            "7352/7352 [==============================] - 43s 6ms/step - loss: 0.1220 - acc: 0.9495 - val_loss: 0.3337 - val_acc: 0.9335\n",
            "Epoch 46/100\n",
            "7352/7352 [==============================] - 43s 6ms/step - loss: 0.1094 - acc: 0.9533 - val_loss: 0.3418 - val_acc: 0.9257\n",
            "Epoch 47/100\n",
            "7352/7352 [==============================] - 43s 6ms/step - loss: 0.1113 - acc: 0.9536 - val_loss: 0.3372 - val_acc: 0.9274\n",
            "Epoch 48/100\n",
            "7352/7352 [==============================] - 43s 6ms/step - loss: 0.1192 - acc: 0.9512 - val_loss: 0.3249 - val_acc: 0.9287\n",
            "Epoch 49/100\n",
            "7352/7352 [==============================] - 43s 6ms/step - loss: 0.1174 - acc: 0.9484 - val_loss: 0.4904 - val_acc: 0.9097\n",
            "Epoch 50/100\n",
            "7352/7352 [==============================] - 44s 6ms/step - loss: 0.1377 - acc: 0.9479 - val_loss: 0.6010 - val_acc: 0.8873\n",
            "Epoch 51/100\n",
            "7352/7352 [==============================] - 43s 6ms/step - loss: 0.1355 - acc: 0.9490 - val_loss: 0.3324 - val_acc: 0.8924\n",
            "Epoch 52/100\n",
            "7352/7352 [==============================] - 43s 6ms/step - loss: 0.1196 - acc: 0.9499 - val_loss: 0.3341 - val_acc: 0.9138\n",
            "Epoch 53/100\n",
            "7352/7352 [==============================] - 43s 6ms/step - loss: 0.1187 - acc: 0.9547 - val_loss: 0.3608 - val_acc: 0.9125\n",
            "Epoch 54/100\n",
            "7352/7352 [==============================] - 43s 6ms/step - loss: 0.1189 - acc: 0.9531 - val_loss: 0.2954 - val_acc: 0.9250\n",
            "Epoch 55/100\n",
            "7352/7352 [==============================] - 42s 6ms/step - loss: 0.1088 - acc: 0.9548 - val_loss: 0.2934 - val_acc: 0.9335\n",
            "Epoch 56/100\n",
            "7352/7352 [==============================] - 42s 6ms/step - loss: 0.1074 - acc: 0.9559 - val_loss: 0.3079 - val_acc: 0.9304\n",
            "Epoch 57/100\n",
            "7352/7352 [==============================] - 43s 6ms/step - loss: 0.1090 - acc: 0.9543 - val_loss: 0.2689 - val_acc: 0.9321\n",
            "Epoch 58/100\n",
            "7352/7352 [==============================] - 44s 6ms/step - loss: 0.1235 - acc: 0.9506 - val_loss: 0.3420 - val_acc: 0.9016\n",
            "Epoch 59/100\n",
            "7352/7352 [==============================] - 43s 6ms/step - loss: 0.1110 - acc: 0.9546 - val_loss: 0.3373 - val_acc: 0.9230\n",
            "Epoch 60/100\n",
            "7352/7352 [==============================] - 43s 6ms/step - loss: 0.1079 - acc: 0.9555 - val_loss: 0.3966 - val_acc: 0.9287\n",
            "Epoch 61/100\n",
            "7352/7352 [==============================] - 43s 6ms/step - loss: 0.1057 - acc: 0.9559 - val_loss: 0.4249 - val_acc: 0.9080\n",
            "Epoch 62/100\n",
            "7352/7352 [==============================] - 44s 6ms/step - loss: 0.1115 - acc: 0.9566 - val_loss: 0.6953 - val_acc: 0.8823\n",
            "Epoch 63/100\n",
            "7352/7352 [==============================] - 43s 6ms/step - loss: 0.1168 - acc: 0.9550 - val_loss: 0.5512 - val_acc: 0.9108\n",
            "Epoch 64/100\n",
            "7352/7352 [==============================] - 44s 6ms/step - loss: 0.1008 - acc: 0.9591 - val_loss: 0.4559 - val_acc: 0.9175\n",
            "Epoch 65/100\n",
            "7352/7352 [==============================] - 44s 6ms/step - loss: 0.1068 - acc: 0.9572 - val_loss: 0.5545 - val_acc: 0.8951\n",
            "Epoch 66/100\n",
            "7352/7352 [==============================] - 43s 6ms/step - loss: 0.1061 - acc: 0.9604 - val_loss: 0.3967 - val_acc: 0.9148\n",
            "Epoch 67/100\n",
            "7352/7352 [==============================] - 43s 6ms/step - loss: 0.1073 - acc: 0.9535 - val_loss: 0.4156 - val_acc: 0.9250\n",
            "Epoch 68/100\n",
            "7352/7352 [==============================] - 44s 6ms/step - loss: 0.1077 - acc: 0.9555 - val_loss: 0.4406 - val_acc: 0.9125\n",
            "Epoch 69/100\n",
            "7352/7352 [==============================] - 43s 6ms/step - loss: 0.1076 - acc: 0.9570 - val_loss: 0.4095 - val_acc: 0.9213\n",
            "Epoch 70/100\n",
            "7352/7352 [==============================] - 44s 6ms/step - loss: 0.1067 - acc: 0.9574 - val_loss: 0.5396 - val_acc: 0.9077\n",
            "Epoch 71/100\n",
            "7352/7352 [==============================] - 44s 6ms/step - loss: 0.1068 - acc: 0.9562 - val_loss: 0.4318 - val_acc: 0.9074\n",
            "Epoch 72/100\n",
            "7352/7352 [==============================] - 44s 6ms/step - loss: 0.0995 - acc: 0.9576 - val_loss: 0.4903 - val_acc: 0.9033\n",
            "Epoch 73/100\n",
            "7352/7352 [==============================] - 43s 6ms/step - loss: 0.1031 - acc: 0.9581 - val_loss: 0.4881 - val_acc: 0.8911\n",
            "Epoch 74/100\n",
            "7352/7352 [==============================] - 43s 6ms/step - loss: 0.1100 - acc: 0.9572 - val_loss: 0.3554 - val_acc: 0.9247\n",
            "Epoch 75/100\n",
            "7352/7352 [==============================] - 43s 6ms/step - loss: 0.1050 - acc: 0.9577 - val_loss: 0.4240 - val_acc: 0.9084\n",
            "Epoch 76/100\n",
            "7352/7352 [==============================] - 43s 6ms/step - loss: 0.1169 - acc: 0.9523 - val_loss: 0.3674 - val_acc: 0.9128\n",
            "Epoch 77/100\n",
            "7352/7352 [==============================] - 43s 6ms/step - loss: 0.1003 - acc: 0.9569 - val_loss: 0.3702 - val_acc: 0.9182\n",
            "Epoch 78/100\n",
            "7352/7352 [==============================] - 44s 6ms/step - loss: 0.1141 - acc: 0.9553 - val_loss: 0.4252 - val_acc: 0.9040\n",
            "Epoch 79/100\n",
            "7352/7352 [==============================] - 44s 6ms/step - loss: 0.1113 - acc: 0.9539 - val_loss: 0.5124 - val_acc: 0.9152\n",
            "Epoch 80/100\n",
            "7352/7352 [==============================] - 44s 6ms/step - loss: 0.0950 - acc: 0.9614 - val_loss: 0.4883 - val_acc: 0.9260\n",
            "Epoch 81/100\n",
            "7352/7352 [==============================] - 43s 6ms/step - loss: 0.1058 - acc: 0.9574 - val_loss: 0.4947 - val_acc: 0.9111\n",
            "Epoch 82/100\n",
            "7352/7352 [==============================] - 42s 6ms/step - loss: 0.1020 - acc: 0.9577 - val_loss: 0.4666 - val_acc: 0.8751\n",
            "Epoch 83/100\n",
            "7352/7352 [==============================] - 42s 6ms/step - loss: 0.0997 - acc: 0.9570 - val_loss: 0.4091 - val_acc: 0.9192\n",
            "Epoch 84/100\n",
            "7352/7352 [==============================] - 42s 6ms/step - loss: 0.1061 - acc: 0.9570 - val_loss: 0.4070 - val_acc: 0.8979\n",
            "Epoch 85/100\n",
            "7352/7352 [==============================] - 43s 6ms/step - loss: 0.1019 - acc: 0.9565 - val_loss: 0.3342 - val_acc: 0.9250\n",
            "Epoch 86/100\n",
            "7352/7352 [==============================] - 43s 6ms/step - loss: 0.1065 - acc: 0.9587 - val_loss: 0.5063 - val_acc: 0.8972\n",
            "Epoch 87/100\n",
            "7352/7352 [==============================] - 42s 6ms/step - loss: 0.0926 - acc: 0.9610 - val_loss: 0.4233 - val_acc: 0.9118\n",
            "Epoch 88/100\n",
            "7352/7352 [==============================] - 42s 6ms/step - loss: 0.1198 - acc: 0.9542 - val_loss: 0.2938 - val_acc: 0.9386\n",
            "Epoch 89/100\n",
            "7352/7352 [==============================] - 42s 6ms/step - loss: 0.1058 - acc: 0.9576 - val_loss: 0.3443 - val_acc: 0.9240\n",
            "Epoch 90/100\n",
            "7352/7352 [==============================] - 42s 6ms/step - loss: 0.1008 - acc: 0.9585 - val_loss: 0.3751 - val_acc: 0.9209\n",
            "Epoch 91/100\n",
            "7352/7352 [==============================] - 43s 6ms/step - loss: 0.1016 - acc: 0.9589 - val_loss: 0.3713 - val_acc: 0.9158\n",
            "Epoch 92/100\n",
            "7352/7352 [==============================] - 43s 6ms/step - loss: 0.0996 - acc: 0.9584 - val_loss: 0.3529 - val_acc: 0.9253\n",
            "Epoch 93/100\n",
            "7352/7352 [==============================] - 43s 6ms/step - loss: 0.0964 - acc: 0.9607 - val_loss: 0.3788 - val_acc: 0.9226\n",
            "Epoch 94/100\n",
            "7352/7352 [==============================] - 42s 6ms/step - loss: 0.0974 - acc: 0.9610 - val_loss: 0.2992 - val_acc: 0.9281\n",
            "Epoch 95/100\n",
            "7352/7352 [==============================] - 42s 6ms/step - loss: 0.0918 - acc: 0.9630 - val_loss: 0.3180 - val_acc: 0.9328\n",
            "Epoch 96/100\n",
            "7352/7352 [==============================] - 42s 6ms/step - loss: 0.0851 - acc: 0.9676 - val_loss: 0.3180 - val_acc: 0.9291\n",
            "Epoch 97/100\n",
            "7352/7352 [==============================] - 43s 6ms/step - loss: 0.0902 - acc: 0.9626 - val_loss: 0.3821 - val_acc: 0.9196\n",
            "Epoch 98/100\n",
            "7352/7352 [==============================] - 42s 6ms/step - loss: 0.0956 - acc: 0.9619 - val_loss: 0.4224 - val_acc: 0.9080\n",
            "Epoch 99/100\n",
            "7352/7352 [==============================] - 42s 6ms/step - loss: 0.0989 - acc: 0.9592 - val_loss: 0.4361 - val_acc: 0.9274\n",
            "Epoch 100/100\n",
            "7352/7352 [==============================] - 42s 6ms/step - loss: 0.0964 - acc: 0.9614 - val_loss: 0.3191 - val_acc: 0.9240\n",
            "CPU times: user 1h 10min 26s, sys: 1min 10s, total: 1h 11min 36s\n",
            "Wall time: 1h 11min 43s\n"
          ],
          "name": "stdout"
        }
      ]
    },
    {
      "metadata": {
        "id": "DI6WcPa9VuSr",
        "colab_type": "code",
        "outputId": "1a5f8d36-e55f-4e2c-bc43-817fb696daac",
        "colab": {
          "base_uri": "https://localhost:8080/",
          "height": 326
        }
      },
      "cell_type": "code",
      "source": [
        "# Confusion Matrix\n",
        "print(confusion_matrix(Y_test, model.predict(X_test)))"
      ],
      "execution_count": 0,
      "outputs": [
        {
          "output_type": "stream",
          "text": [
            "Pred                LAYING  SITTING  STANDING  WALKING  WALKING_DOWNSTAIRS  \\\n",
            "True                                                                         \n",
            "LAYING                 537        0         0        0                   0   \n",
            "SITTING                  4      391        92        0                   1   \n",
            "STANDING                 0       82       450        0                   0   \n",
            "WALKING                  0        0         0      482                   0   \n",
            "WALKING_DOWNSTAIRS       1        0         0        3                 408   \n",
            "WALKING_UPSTAIRS         0        0         0       12                   4   \n",
            "\n",
            "Pred                WALKING_UPSTAIRS  \n",
            "True                                  \n",
            "LAYING                             0  \n",
            "SITTING                            3  \n",
            "STANDING                           0  \n",
            "WALKING                           14  \n",
            "WALKING_DOWNSTAIRS                 8  \n",
            "WALKING_UPSTAIRS                 455  \n"
          ],
          "name": "stdout"
        }
      ]
    },
    {
      "metadata": {
        "id": "Pbw733qmjIiA",
        "colab_type": "code",
        "outputId": "55ad5f0b-251e-4e9d-a441-485deccf3b38",
        "colab": {
          "base_uri": "https://localhost:8080/",
          "height": 397
        }
      },
      "cell_type": "code",
      "source": [
        "#ploting graph\n",
        "score = model.evaluate(X_test, Y_test, verbose=0)\n",
        "print('Test loss:', score[0])\n",
        "print('Test accuracy:', score[1])\n",
        "\n",
        "fig,ax = plt.subplots(1,1)\n",
        "ax.set_xlabel('epoch') ; ax.set_ylabel('Categorical Crossentropy Loss')\n",
        "\n",
        "# list of epoch numbers\n",
        "x = list(range(1,epochs+1))\n",
        "\n",
        "vy = history.history['val_loss']\n",
        "ty = history.history['loss']\n",
        "plt_dynamic(x, vy, ty, ax)"
      ],
      "execution_count": 0,
      "outputs": [
        {
          "output_type": "stream",
          "text": [
            "Test loss: 0.3190983775916234\n",
            "Test accuracy: 0.9239904988123515\n"
          ],
          "name": "stdout"
        },
        {
          "output_type": "display_data",
          "data": {
            "image/png": "[encoded data removed]",
            "text/plain": [
              "<Figure size 576x396 with 1 Axes>"
            ]
          },
          "metadata": {
            "tags": []
          }
        }
      ]
    },
    {
      "metadata": {
        "id": "daxNGMiiYT5o",
        "colab_type": "text"
      },
      "cell_type": "markdown",
      "source": [
        "### LSTM 2 layered with larger Dropouts"
      ]
    },
    {
      "metadata": {
        "id": "QRKqsAPbYarI",
        "colab_type": "code",
        "colab": {}
      },
      "cell_type": "code",
      "source": [
        "# Initializing parameters\n",
        "epochs = 50\n",
        "batch_size = 64\n",
        "n_hidden_for_layer1 = 64\n",
        "n_hidden_for_layer2 = 32"
      ],
      "execution_count": 0,
      "outputs": []
    },
    {
      "metadata": {
        "id": "bVIjbbQuYa2R",
        "colab_type": "code",
        "outputId": "10740989-e0d7-4727-a5a3-1d83460fea72",
        "colab": {
          "base_uri": "https://localhost:8080/",
          "height": 399
        }
      },
      "cell_type": "code",
      "source": [
        "# Initiliazing the sequential model\n",
        "model = Sequential()\n",
        "\n",
        "# Configuring the parameters\n",
        "model.add(LSTM(n_hidden_for_layer1,return_sequences=True ,input_shape=(timesteps, input_dim)))#layer 1\n",
        "model.add(BatchNormalization())\n",
        "model.add(Dropout(1))# Adding a dropout layer\n",
        "\n",
        "model.add(LSTM(n_hidden_for_layer2))#layer 2\n",
        "model.add(BatchNormalization())\n",
        "model.add(Dropout(0.5))# Adding a dropout layer\n",
        "\n",
        "model.add(Dense(n_classes, activation='sigmoid'))# Adding a dense output layer with sigmoid activation\n",
        "\n",
        "model.summary()\n"
      ],
      "execution_count": 54,
      "outputs": [
        {
          "output_type": "stream",
          "text": [
            "_________________________________________________________________\n",
            "Layer (type)                 Output Shape              Param #   \n",
            "=================================================================\n",
            "lstm_9 (LSTM)                (None, 128, 64)           18944     \n",
            "_________________________________________________________________\n",
            "batch_normalization_5 (Batch (None, 128, 64)           256       \n",
            "_________________________________________________________________\n",
            "dropout_9 (Dropout)          (None, 128, 64)           0         \n",
            "_________________________________________________________________\n",
            "lstm_10 (LSTM)               (None, 32)                12416     \n",
            "_________________________________________________________________\n",
            "batch_normalization_6 (Batch (None, 32)                128       \n",
            "_________________________________________________________________\n",
            "dropout_10 (Dropout)         (None, 32)                0         \n",
            "_________________________________________________________________\n",
            "dense_5 (Dense)              (None, 6)                 198       \n",
            "=================================================================\n",
            "Total params: 31,942\n",
            "Trainable params: 31,750\n",
            "Non-trainable params: 192\n",
            "_________________________________________________________________\n"
          ],
          "name": "stdout"
        }
      ]
    },
    {
      "metadata": {
        "id": "mGJGX2SxYa6r",
        "colab_type": "code",
        "colab": {}
      },
      "cell_type": "code",
      "source": [
        "# Compiling the model\n",
        "#import keras\n",
        "model.compile(loss='categorical_crossentropy',optimizer='adam',metrics=['accuracy'])"
      ],
      "execution_count": 0,
      "outputs": []
    },
    {
      "metadata": {
        "id": "XlXUPn0HYbGs",
        "colab_type": "code",
        "outputId": "82be92f1-eac1-432e-d3c4-c3b27903375b",
        "colab": {
          "base_uri": "https://localhost:8080/",
          "height": 1890
        }
      },
      "cell_type": "code",
      "source": [
        "%%time\n",
        "# Training the model\n",
        "history =model.fit(X_train,Y_train,batch_size=batch_size,epochs=epochs,verbose=1,validation_data=(X_test, Y_test))\n"
      ],
      "execution_count": 56,
      "outputs": [
        {
          "output_type": "stream",
          "text": [
            "Train on 7352 samples, validate on 2947 samples\n",
            "Epoch 1/50\n",
            "7352/7352 [==============================] - 32s 4ms/step - loss: 1.2673 - acc: 0.5744 - val_loss: 0.9692 - val_acc: 0.6837\n",
            "Epoch 2/50\n",
            "7352/7352 [==============================] - 29s 4ms/step - loss: 0.9093 - acc: 0.7433 - val_loss: 0.9316 - val_acc: 0.5674\n",
            "Epoch 3/50\n",
            "7352/7352 [==============================] - 29s 4ms/step - loss: 0.7558 - acc: 0.7671 - val_loss: 0.6775 - val_acc: 0.7587\n",
            "Epoch 4/50\n",
            "7352/7352 [==============================] - 29s 4ms/step - loss: 0.6160 - acc: 0.7837 - val_loss: 1.1395 - val_acc: 0.5263\n",
            "Epoch 5/50\n",
            "7352/7352 [==============================] - 29s 4ms/step - loss: 0.5311 - acc: 0.7939 - val_loss: 0.4926 - val_acc: 0.7635\n",
            "Epoch 6/50\n",
            "7352/7352 [==============================] - 29s 4ms/step - loss: 0.4726 - acc: 0.7947 - val_loss: 0.5168 - val_acc: 0.7479\n",
            "Epoch 7/50\n",
            "7352/7352 [==============================] - 29s 4ms/step - loss: 0.4219 - acc: 0.7956 - val_loss: 0.4620 - val_acc: 0.7431\n",
            "Epoch 8/50\n",
            "7352/7352 [==============================] - 29s 4ms/step - loss: 0.3781 - acc: 0.7952 - val_loss: 0.4874 - val_acc: 0.7540\n",
            "Epoch 9/50\n",
            "7352/7352 [==============================] - 29s 4ms/step - loss: 0.3364 - acc: 0.8022 - val_loss: 0.4352 - val_acc: 0.7540\n",
            "Epoch 10/50\n",
            "7352/7352 [==============================] - 29s 4ms/step - loss: 0.3305 - acc: 0.8003 - val_loss: 0.3438 - val_acc: 0.7679\n",
            "Epoch 11/50\n",
            "7352/7352 [==============================] - 29s 4ms/step - loss: 0.3037 - acc: 0.8092 - val_loss: 0.5429 - val_acc: 0.7472\n",
            "Epoch 12/50\n",
            "7352/7352 [==============================] - 29s 4ms/step - loss: 0.2822 - acc: 0.8161 - val_loss: 0.3391 - val_acc: 0.7686\n",
            "Epoch 13/50\n",
            "7352/7352 [==============================] - 29s 4ms/step - loss: 0.3041 - acc: 0.8120 - val_loss: 0.4169 - val_acc: 0.7615\n",
            "Epoch 14/50\n",
            "7352/7352 [==============================] - 29s 4ms/step - loss: 0.2857 - acc: 0.8221 - val_loss: 0.3709 - val_acc: 0.7676\n",
            "Epoch 15/50\n",
            "7352/7352 [==============================] - 29s 4ms/step - loss: 0.2802 - acc: 0.8278 - val_loss: 0.4536 - val_acc: 0.7482\n",
            "Epoch 16/50\n",
            "7352/7352 [==============================] - 29s 4ms/step - loss: 0.3054 - acc: 0.8195 - val_loss: 0.4373 - val_acc: 0.7679\n",
            "Epoch 17/50\n",
            "7352/7352 [==============================] - 29s 4ms/step - loss: 0.2637 - acc: 0.8296 - val_loss: 0.4571 - val_acc: 0.7672\n",
            "Epoch 18/50\n",
            "7352/7352 [==============================] - 29s 4ms/step - loss: 0.2600 - acc: 0.8354 - val_loss: 0.4131 - val_acc: 0.7682\n",
            "Epoch 19/50\n",
            "7352/7352 [==============================] - 30s 4ms/step - loss: 0.2604 - acc: 0.8440 - val_loss: 0.3578 - val_acc: 0.7852\n",
            "Epoch 20/50\n",
            "7352/7352 [==============================] - 29s 4ms/step - loss: 0.2552 - acc: 0.8453 - val_loss: 0.4017 - val_acc: 0.7822\n",
            "Epoch 21/50\n",
            "7352/7352 [==============================] - 29s 4ms/step - loss: 0.2415 - acc: 0.8561 - val_loss: 0.4049 - val_acc: 0.7866\n",
            "Epoch 22/50\n",
            "7352/7352 [==============================] - 29s 4ms/step - loss: 0.2513 - acc: 0.8562 - val_loss: 0.4077 - val_acc: 0.7720\n",
            "Epoch 23/50\n",
            "7352/7352 [==============================] - 29s 4ms/step - loss: 0.2606 - acc: 0.8541 - val_loss: 0.3571 - val_acc: 0.7978\n",
            "Epoch 24/50\n",
            "7352/7352 [==============================] - 29s 4ms/step - loss: 0.2493 - acc: 0.8594 - val_loss: 0.8355 - val_acc: 0.7251\n",
            "Epoch 25/50\n",
            "7352/7352 [==============================] - 29s 4ms/step - loss: 0.2925 - acc: 0.8690 - val_loss: 0.4229 - val_acc: 0.8663\n",
            "Epoch 26/50\n",
            "7352/7352 [==============================] - 29s 4ms/step - loss: 0.2512 - acc: 0.8823 - val_loss: 0.4078 - val_acc: 0.9030\n",
            "Epoch 27/50\n",
            "7352/7352 [==============================] - 30s 4ms/step - loss: 0.2398 - acc: 0.9042 - val_loss: 0.3719 - val_acc: 0.9165\n",
            "Epoch 28/50\n",
            "7352/7352 [==============================] - 30s 4ms/step - loss: 0.2132 - acc: 0.9287 - val_loss: 0.3070 - val_acc: 0.9114\n",
            "Epoch 29/50\n",
            "7352/7352 [==============================] - 30s 4ms/step - loss: 0.1637 - acc: 0.9414 - val_loss: 0.2676 - val_acc: 0.9213\n",
            "Epoch 30/50\n",
            "7352/7352 [==============================] - 30s 4ms/step - loss: 0.1497 - acc: 0.9457 - val_loss: 0.3102 - val_acc: 0.9209\n",
            "Epoch 31/50\n",
            "7352/7352 [==============================] - 30s 4ms/step - loss: 0.1379 - acc: 0.9482 - val_loss: 0.3148 - val_acc: 0.9199\n",
            "Epoch 32/50\n",
            "7352/7352 [==============================] - 29s 4ms/step - loss: 0.1420 - acc: 0.9478 - val_loss: 0.3738 - val_acc: 0.9046\n",
            "Epoch 33/50\n",
            "7352/7352 [==============================] - 29s 4ms/step - loss: 0.1542 - acc: 0.9395 - val_loss: 0.4201 - val_acc: 0.8989\n",
            "Epoch 34/50\n",
            "7352/7352 [==============================] - 29s 4ms/step - loss: 0.1413 - acc: 0.9441 - val_loss: 0.3564 - val_acc: 0.9196\n",
            "Epoch 35/50\n",
            "7352/7352 [==============================] - 29s 4ms/step - loss: 0.1350 - acc: 0.9475 - val_loss: 0.3519 - val_acc: 0.9158\n",
            "Epoch 36/50\n",
            "7352/7352 [==============================] - 29s 4ms/step - loss: 0.1382 - acc: 0.9460 - val_loss: 0.3891 - val_acc: 0.9189\n",
            "Epoch 37/50\n",
            "7352/7352 [==============================] - 29s 4ms/step - loss: 0.1299 - acc: 0.9498 - val_loss: 0.3736 - val_acc: 0.9094\n",
            "Epoch 38/50\n",
            "7352/7352 [==============================] - 30s 4ms/step - loss: 0.1332 - acc: 0.9489 - val_loss: 0.3137 - val_acc: 0.9203\n",
            "Epoch 39/50\n",
            "7352/7352 [==============================] - 29s 4ms/step - loss: 0.1453 - acc: 0.9465 - val_loss: 0.5410 - val_acc: 0.8914\n",
            "Epoch 40/50\n",
            "7352/7352 [==============================] - 29s 4ms/step - loss: 0.1469 - acc: 0.9421 - val_loss: 0.3153 - val_acc: 0.9162\n",
            "Epoch 41/50\n",
            "7352/7352 [==============================] - 29s 4ms/step - loss: 0.1278 - acc: 0.9460 - val_loss: 0.3332 - val_acc: 0.9138\n",
            "Epoch 42/50\n",
            "7352/7352 [==============================] - 29s 4ms/step - loss: 0.1287 - acc: 0.9472 - val_loss: 0.2859 - val_acc: 0.9311\n",
            "Epoch 43/50\n",
            "7352/7352 [==============================] - 29s 4ms/step - loss: 0.1241 - acc: 0.9483 - val_loss: 0.3745 - val_acc: 0.9203\n",
            "Epoch 44/50\n",
            "7352/7352 [==============================] - 29s 4ms/step - loss: 0.1388 - acc: 0.9455 - val_loss: 0.5768 - val_acc: 0.8809\n",
            "Epoch 45/50\n",
            "7352/7352 [==============================] - 30s 4ms/step - loss: 0.2200 - acc: 0.9301 - val_loss: 0.5154 - val_acc: 0.8843\n",
            "Epoch 46/50\n",
            "7352/7352 [==============================] - 29s 4ms/step - loss: 0.1601 - acc: 0.9418 - val_loss: 0.2830 - val_acc: 0.9125\n",
            "Epoch 47/50\n",
            "7352/7352 [==============================] - 29s 4ms/step - loss: 0.1557 - acc: 0.9446 - val_loss: 0.2872 - val_acc: 0.9169\n",
            "Epoch 48/50\n",
            "7352/7352 [==============================] - 33s 4ms/step - loss: 0.1471 - acc: 0.9444 - val_loss: 0.2855 - val_acc: 0.9237\n",
            "Epoch 49/50\n",
            "7352/7352 [==============================] - 29s 4ms/step - loss: 0.1328 - acc: 0.9441 - val_loss: 0.3225 - val_acc: 0.9030\n",
            "Epoch 50/50\n",
            "7352/7352 [==============================] - 29s 4ms/step - loss: 0.1412 - acc: 0.9501 - val_loss: 0.2584 - val_acc: 0.9253\n",
            "CPU times: user 23min 45s, sys: 28.2 s, total: 24min 14s\n",
            "Wall time: 24min 27s\n"
          ],
          "name": "stdout"
        }
      ]
    },
    {
      "metadata": {
        "id": "6kPrj3baYbLc",
        "colab_type": "code",
        "colab": {
          "base_uri": "https://localhost:8080/",
          "height": 326
        },
        "outputId": "91a61823-4496-4d75-e325-14f8d9d74e82"
      },
      "cell_type": "code",
      "source": [
        "# Confusion Matrix\n",
        "print(confusion_matrix(Y_test, model.predict(X_test)))"
      ],
      "execution_count": 57,
      "outputs": [
        {
          "output_type": "stream",
          "text": [
            "Pred                LAYING  SITTING  STANDING  WALKING  WALKING_DOWNSTAIRS  \\\n",
            "True                                                                         \n",
            "LAYING                 537        0         0        0                   0   \n",
            "SITTING                  5      355       131        0                   0   \n",
            "STANDING                 0       45       487        0                   0   \n",
            "WALKING                  0        0         0      470                  22   \n",
            "WALKING_DOWNSTAIRS       0        0         0        0                 409   \n",
            "WALKING_UPSTAIRS         0        0         0        1                   1   \n",
            "\n",
            "Pred                WALKING_UPSTAIRS  \n",
            "True                                  \n",
            "LAYING                             0  \n",
            "SITTING                            0  \n",
            "STANDING                           0  \n",
            "WALKING                            4  \n",
            "WALKING_DOWNSTAIRS                11  \n",
            "WALKING_UPSTAIRS                 469  \n"
          ],
          "name": "stdout"
        }
      ]
    },
    {
      "metadata": {
        "id": "umfWBEyWYbEE",
        "colab_type": "code",
        "colab": {
          "base_uri": "https://localhost:8080/",
          "height": 397
        },
        "outputId": "9e43d84e-6a0f-4059-a054-d79f47896544"
      },
      "cell_type": "code",
      "source": [
        "#ploting graph\n",
        "score = model.evaluate(X_test, Y_test, verbose=0)\n",
        "print('Test loss:', score[0])\n",
        "print('Test accuracy:', score[1])\n",
        "\n",
        "fig,ax = plt.subplots(1,1)\n",
        "ax.set_xlabel('epoch') ; ax.set_ylabel('Categorical Crossentropy Loss')\n",
        "\n",
        "# list of epoch numbers\n",
        "x = list(range(1,epochs+1))\n",
        "\n",
        "vy = history.history['val_loss']\n",
        "ty = history.history['loss']\n",
        "plt_dynamic(x, vy, ty, ax)"
      ],
      "execution_count": 58,
      "outputs": [
        {
          "output_type": "stream",
          "text": [
            "Test loss: 0.25842093210849665\n",
            "Test accuracy: 0.9253478113335596\n"
          ],
          "name": "stdout"
        },
        {
          "output_type": "display_data",
          "data": {
            "image/png": "[encoded data removed]",
            "text/plain": [
              "<Figure size 576x396 with 1 Axes>"
            ]
          },
          "metadata": {
            "tags": []
          }
        }
      ]
    },
    {
      "metadata": {
        "id": "cKAJ2lqicgk3",
        "colab_type": "text"
      },
      "cell_type": "markdown",
      "source": [
        "### LSTM 1 layered Architecture"
      ]
    },
    {
      "metadata": {
        "id": "yiXmNB1-cfiw",
        "colab_type": "code",
        "colab": {}
      },
      "cell_type": "code",
      "source": [
        "# Initializing parameters\n",
        "epochs = 75\n",
        "batch_size = 64\n",
        "n_hidden_for_layer1 = 128\n"
      ],
      "execution_count": 0,
      "outputs": []
    },
    {
      "metadata": {
        "id": "X061H6k5YbBz",
        "colab_type": "code",
        "colab": {
          "base_uri": "https://localhost:8080/",
          "height": 290
        },
        "outputId": "5298cd46-449b-48fa-9704-3f06b6468d4e"
      },
      "cell_type": "code",
      "source": [
        "# Initiliazing the sequential model\n",
        "model = Sequential()\n",
        "\n",
        "# Configuring the parameters\n",
        "model.add(LSTM(n_hidden_for_layer1 ,input_shape=(timesteps, input_dim)))#layer 1\n",
        "model.add(BatchNormalization())\n",
        "model.add(Dropout(2))# Adding a dropout layer\n",
        "\n",
        "model.add(Dense(n_classes, activation='sigmoid'))# Adding a dense output layer with sigmoid activation\n",
        "\n",
        "model.summary()\n"
      ],
      "execution_count": 71,
      "outputs": [
        {
          "output_type": "stream",
          "text": [
            "_________________________________________________________________\n",
            "Layer (type)                 Output Shape              Param #   \n",
            "=================================================================\n",
            "lstm_13 (LSTM)               (None, 128)               70656     \n",
            "_________________________________________________________________\n",
            "batch_normalization_9 (Batch (None, 128)               512       \n",
            "_________________________________________________________________\n",
            "dropout_13 (Dropout)         (None, 128)               0         \n",
            "_________________________________________________________________\n",
            "dense_8 (Dense)              (None, 6)                 774       \n",
            "=================================================================\n",
            "Total params: 71,942\n",
            "Trainable params: 71,686\n",
            "Non-trainable params: 256\n",
            "_________________________________________________________________\n"
          ],
          "name": "stdout"
        }
      ]
    },
    {
      "metadata": {
        "id": "PjAo59NDc0d8",
        "colab_type": "code",
        "colab": {}
      },
      "cell_type": "code",
      "source": [
        "# Compiling the model\n",
        "#import keras\n",
        "model.compile(loss='categorical_crossentropy',optimizer='adam',metrics=['accuracy'])"
      ],
      "execution_count": 0,
      "outputs": []
    },
    {
      "metadata": {
        "id": "9KSjcMSWc0pt",
        "colab_type": "code",
        "colab": {
          "base_uri": "https://localhost:8080/",
          "height": 2799
        },
        "outputId": "7a8a9390-c585-42bc-e51f-0ec2554eb80e"
      },
      "cell_type": "code",
      "source": [
        "%%time\n",
        "# Training the model\n",
        "history =model.fit(X_train,Y_train,batch_size=batch_size,epochs=epochs,verbose=1,validation_data=(X_test, Y_test))\n"
      ],
      "execution_count": 73,
      "outputs": [
        {
          "output_type": "stream",
          "text": [
            "Train on 7352 samples, validate on 2947 samples\n",
            "Epoch 1/75\n",
            "7352/7352 [==============================] - 32s 4ms/step - loss: 1.0788 - acc: 0.5306 - val_loss: 1.2120 - val_acc: 0.5860\n",
            "Epoch 2/75\n",
            "7352/7352 [==============================] - 29s 4ms/step - loss: 0.7887 - acc: 0.6085 - val_loss: 1.4075 - val_acc: 0.5524\n",
            "Epoch 3/75\n",
            "7352/7352 [==============================] - 29s 4ms/step - loss: 0.7283 - acc: 0.6117 - val_loss: 0.7540 - val_acc: 0.5914\n",
            "Epoch 4/75\n",
            "7352/7352 [==============================] - 29s 4ms/step - loss: 0.6892 - acc: 0.6291 - val_loss: 0.8100 - val_acc: 0.5772\n",
            "Epoch 5/75\n",
            "7352/7352 [==============================] - 29s 4ms/step - loss: 0.6373 - acc: 0.6542 - val_loss: 0.8774 - val_acc: 0.5931\n",
            "Epoch 6/75\n",
            "7352/7352 [==============================] - 29s 4ms/step - loss: 0.6372 - acc: 0.6425 - val_loss: 0.8003 - val_acc: 0.6210\n",
            "Epoch 7/75\n",
            "7352/7352 [==============================] - 29s 4ms/step - loss: 0.6181 - acc: 0.6538 - val_loss: 0.7382 - val_acc: 0.6542\n",
            "Epoch 8/75\n",
            "7352/7352 [==============================] - 29s 4ms/step - loss: 0.5776 - acc: 0.7062 - val_loss: 0.9943 - val_acc: 0.6644\n",
            "Epoch 9/75\n",
            "7352/7352 [==============================] - 28s 4ms/step - loss: 0.4412 - acc: 0.7924 - val_loss: 0.9051 - val_acc: 0.7469\n",
            "Epoch 10/75\n",
            "7352/7352 [==============================] - 29s 4ms/step - loss: 0.2653 - acc: 0.8985 - val_loss: 0.4326 - val_acc: 0.8683\n",
            "Epoch 11/75\n",
            "7352/7352 [==============================] - 29s 4ms/step - loss: 0.2630 - acc: 0.9095 - val_loss: 0.4133 - val_acc: 0.8551\n",
            "Epoch 12/75\n",
            "7352/7352 [==============================] - 30s 4ms/step - loss: 0.2144 - acc: 0.9196 - val_loss: 0.2795 - val_acc: 0.9097\n",
            "Epoch 13/75\n",
            "7352/7352 [==============================] - 29s 4ms/step - loss: 0.1470 - acc: 0.9406 - val_loss: 0.3585 - val_acc: 0.8816\n",
            "Epoch 14/75\n",
            "7352/7352 [==============================] - 28s 4ms/step - loss: 0.1247 - acc: 0.9490 - val_loss: 0.2867 - val_acc: 0.9013\n",
            "Epoch 15/75\n",
            "7352/7352 [==============================] - 37s 5ms/step - loss: 0.1376 - acc: 0.9407 - val_loss: 0.3921 - val_acc: 0.8741\n",
            "Epoch 16/75\n",
            "7352/7352 [==============================] - 42s 6ms/step - loss: 0.1291 - acc: 0.9437 - val_loss: 0.3318 - val_acc: 0.8907\n",
            "Epoch 17/75\n",
            "7352/7352 [==============================] - 42s 6ms/step - loss: 0.1872 - acc: 0.9232 - val_loss: 0.2934 - val_acc: 0.9121\n",
            "Epoch 18/75\n",
            "7352/7352 [==============================] - 42s 6ms/step - loss: 0.1246 - acc: 0.9438 - val_loss: 0.2751 - val_acc: 0.9077\n",
            "Epoch 19/75\n",
            "7352/7352 [==============================] - 43s 6ms/step - loss: 0.1138 - acc: 0.9470 - val_loss: 0.2728 - val_acc: 0.9070\n",
            "Epoch 20/75\n",
            "7352/7352 [==============================] - 41s 6ms/step - loss: 0.1147 - acc: 0.9457 - val_loss: 0.3236 - val_acc: 0.9101\n",
            "Epoch 21/75\n",
            "7352/7352 [==============================] - 28s 4ms/step - loss: 0.1139 - acc: 0.9476 - val_loss: 0.3057 - val_acc: 0.9179\n",
            "Epoch 22/75\n",
            "7352/7352 [==============================] - 29s 4ms/step - loss: 0.1098 - acc: 0.9470 - val_loss: 0.3130 - val_acc: 0.9125\n",
            "Epoch 23/75\n",
            "7352/7352 [==============================] - 29s 4ms/step - loss: 0.1111 - acc: 0.9472 - val_loss: 0.3131 - val_acc: 0.9036\n",
            "Epoch 24/75\n",
            "7352/7352 [==============================] - 29s 4ms/step - loss: 0.1519 - acc: 0.9336 - val_loss: 0.6967 - val_acc: 0.7530\n",
            "Epoch 25/75\n",
            "7352/7352 [==============================] - 29s 4ms/step - loss: 0.1297 - acc: 0.9457 - val_loss: 0.3338 - val_acc: 0.8965\n",
            "Epoch 26/75\n",
            "7352/7352 [==============================] - 29s 4ms/step - loss: 0.1192 - acc: 0.9494 - val_loss: 0.3244 - val_acc: 0.8938\n",
            "Epoch 27/75\n",
            "7352/7352 [==============================] - 29s 4ms/step - loss: 0.1155 - acc: 0.9502 - val_loss: 0.2777 - val_acc: 0.9063\n",
            "Epoch 28/75\n",
            "7352/7352 [==============================] - 28s 4ms/step - loss: 0.1125 - acc: 0.9484 - val_loss: 0.2952 - val_acc: 0.9091\n",
            "Epoch 29/75\n",
            "7352/7352 [==============================] - 28s 4ms/step - loss: 0.1097 - acc: 0.9527 - val_loss: 0.3348 - val_acc: 0.8996\n",
            "Epoch 30/75\n",
            "7352/7352 [==============================] - 29s 4ms/step - loss: 0.1124 - acc: 0.9455 - val_loss: 0.3149 - val_acc: 0.9128\n",
            "Epoch 31/75\n",
            "7352/7352 [==============================] - 29s 4ms/step - loss: 0.1154 - acc: 0.9471 - val_loss: 0.3177 - val_acc: 0.9036\n",
            "Epoch 32/75\n",
            "7352/7352 [==============================] - 30s 4ms/step - loss: 0.1067 - acc: 0.9512 - val_loss: 0.3517 - val_acc: 0.9002\n",
            "Epoch 33/75\n",
            "7352/7352 [==============================] - 29s 4ms/step - loss: 0.1156 - acc: 0.9484 - val_loss: 0.4156 - val_acc: 0.8751\n",
            "Epoch 34/75\n",
            "7352/7352 [==============================] - 30s 4ms/step - loss: 0.1290 - acc: 0.9440 - val_loss: 0.5976 - val_acc: 0.8422\n",
            "Epoch 35/75\n",
            "7352/7352 [==============================] - 29s 4ms/step - loss: 0.1202 - acc: 0.9436 - val_loss: 0.2923 - val_acc: 0.9080\n",
            "Epoch 36/75\n",
            "7352/7352 [==============================] - 29s 4ms/step - loss: 0.1084 - acc: 0.9474 - val_loss: 0.3141 - val_acc: 0.9060\n",
            "Epoch 37/75\n",
            "7352/7352 [==============================] - 29s 4ms/step - loss: 0.1050 - acc: 0.9539 - val_loss: 0.3137 - val_acc: 0.9033\n",
            "Epoch 38/75\n",
            "7352/7352 [==============================] - 29s 4ms/step - loss: 0.1015 - acc: 0.9512 - val_loss: 0.2806 - val_acc: 0.9108\n",
            "Epoch 39/75\n",
            "7352/7352 [==============================] - 29s 4ms/step - loss: 0.0995 - acc: 0.9540 - val_loss: 0.2894 - val_acc: 0.9206\n",
            "Epoch 40/75\n",
            "7352/7352 [==============================] - 29s 4ms/step - loss: 0.0980 - acc: 0.9555 - val_loss: 0.3010 - val_acc: 0.9162\n",
            "Epoch 41/75\n",
            "7352/7352 [==============================] - 29s 4ms/step - loss: 0.0989 - acc: 0.9561 - val_loss: 0.3148 - val_acc: 0.9070\n",
            "Epoch 42/75\n",
            "7352/7352 [==============================] - 29s 4ms/step - loss: 0.0974 - acc: 0.9563 - val_loss: 0.3332 - val_acc: 0.9175\n",
            "Epoch 43/75\n",
            "7352/7352 [==============================] - 28s 4ms/step - loss: 0.1101 - acc: 0.9497 - val_loss: 0.3080 - val_acc: 0.9121\n",
            "Epoch 44/75\n",
            "7352/7352 [==============================] - 29s 4ms/step - loss: 0.0992 - acc: 0.9527 - val_loss: 0.4308 - val_acc: 0.9023\n",
            "Epoch 45/75\n",
            "7352/7352 [==============================] - 29s 4ms/step - loss: 0.0989 - acc: 0.9551 - val_loss: 0.3330 - val_acc: 0.9182\n",
            "Epoch 46/75\n",
            "7352/7352 [==============================] - 29s 4ms/step - loss: 0.1090 - acc: 0.9470 - val_loss: 0.3295 - val_acc: 0.9036\n",
            "Epoch 47/75\n",
            "7352/7352 [==============================] - 29s 4ms/step - loss: 0.1236 - acc: 0.9431 - val_loss: 0.5198 - val_acc: 0.8392\n",
            "Epoch 48/75\n",
            "7352/7352 [==============================] - 29s 4ms/step - loss: 0.1079 - acc: 0.9504 - val_loss: 0.3464 - val_acc: 0.9162\n",
            "Epoch 49/75\n",
            "7352/7352 [==============================] - 28s 4ms/step - loss: 0.1360 - acc: 0.9463 - val_loss: 0.2726 - val_acc: 0.9128\n",
            "Epoch 50/75\n",
            "7352/7352 [==============================] - 28s 4ms/step - loss: 0.1142 - acc: 0.9566 - val_loss: 0.2987 - val_acc: 0.9155\n",
            "Epoch 51/75\n",
            "7352/7352 [==============================] - 29s 4ms/step - loss: 0.1070 - acc: 0.9561 - val_loss: 0.2961 - val_acc: 0.9301\n",
            "Epoch 52/75\n",
            "7352/7352 [==============================] - 29s 4ms/step - loss: 0.1076 - acc: 0.9548 - val_loss: 0.2890 - val_acc: 0.9260\n",
            "Epoch 53/75\n",
            "7352/7352 [==============================] - 28s 4ms/step - loss: 0.1061 - acc: 0.9561 - val_loss: 0.2770 - val_acc: 0.9226\n",
            "Epoch 54/75\n",
            "7352/7352 [==============================] - 28s 4ms/step - loss: 0.1049 - acc: 0.9527 - val_loss: 0.2842 - val_acc: 0.9094\n",
            "Epoch 55/75\n",
            "7352/7352 [==============================] - 28s 4ms/step - loss: 0.1127 - acc: 0.9489 - val_loss: 0.2857 - val_acc: 0.9131\n",
            "Epoch 56/75\n",
            "7352/7352 [==============================] - 28s 4ms/step - loss: 0.1116 - acc: 0.9476 - val_loss: 0.2922 - val_acc: 0.9114\n",
            "Epoch 57/75\n",
            "7352/7352 [==============================] - 28s 4ms/step - loss: 0.1124 - acc: 0.9431 - val_loss: 0.3043 - val_acc: 0.9169\n",
            "Epoch 58/75\n",
            "7352/7352 [==============================] - 28s 4ms/step - loss: 0.1101 - acc: 0.9501 - val_loss: 0.3142 - val_acc: 0.9111\n",
            "Epoch 59/75\n",
            "7352/7352 [==============================] - 28s 4ms/step - loss: 0.1065 - acc: 0.9523 - val_loss: 0.3120 - val_acc: 0.9135\n",
            "Epoch 60/75\n",
            "7352/7352 [==============================] - 28s 4ms/step - loss: 0.1041 - acc: 0.9501 - val_loss: 0.3123 - val_acc: 0.9128\n",
            "Epoch 61/75\n",
            "7352/7352 [==============================] - 28s 4ms/step - loss: 0.1036 - acc: 0.9470 - val_loss: 0.3269 - val_acc: 0.9114\n",
            "Epoch 62/75\n",
            "7352/7352 [==============================] - 29s 4ms/step - loss: 0.1157 - acc: 0.9459 - val_loss: 0.4796 - val_acc: 0.8714\n",
            "Epoch 63/75\n",
            "7352/7352 [==============================] - 28s 4ms/step - loss: 0.1251 - acc: 0.9378 - val_loss: 0.3226 - val_acc: 0.9155\n",
            "Epoch 64/75\n",
            "7352/7352 [==============================] - 28s 4ms/step - loss: 0.1088 - acc: 0.9438 - val_loss: 0.3497 - val_acc: 0.9084\n",
            "Epoch 65/75\n",
            "7352/7352 [==============================] - 28s 4ms/step - loss: 0.1001 - acc: 0.9423 - val_loss: 0.3402 - val_acc: 0.9253\n",
            "Epoch 66/75\n",
            "7352/7352 [==============================] - 28s 4ms/step - loss: 0.1023 - acc: 0.9476 - val_loss: 0.3360 - val_acc: 0.9165\n",
            "Epoch 67/75\n",
            "7352/7352 [==============================] - 28s 4ms/step - loss: 0.0983 - acc: 0.9489 - val_loss: 0.3449 - val_acc: 0.9172\n",
            "Epoch 68/75\n",
            "7352/7352 [==============================] - 28s 4ms/step - loss: 0.0993 - acc: 0.9512 - val_loss: 0.3678 - val_acc: 0.9213\n",
            "Epoch 69/75\n",
            "7352/7352 [==============================] - 28s 4ms/step - loss: 0.0998 - acc: 0.9512 - val_loss: 0.4213 - val_acc: 0.8975\n",
            "Epoch 70/75\n",
            "7352/7352 [==============================] - 28s 4ms/step - loss: 0.0971 - acc: 0.9558 - val_loss: 0.4250 - val_acc: 0.9135\n",
            "Epoch 71/75\n",
            "7352/7352 [==============================] - 28s 4ms/step - loss: 0.1368 - acc: 0.9433 - val_loss: 0.3508 - val_acc: 0.9026\n",
            "Epoch 72/75\n",
            "7352/7352 [==============================] - 28s 4ms/step - loss: 0.1123 - acc: 0.9448 - val_loss: 0.3017 - val_acc: 0.9070\n",
            "Epoch 73/75\n",
            "7352/7352 [==============================] - 29s 4ms/step - loss: 0.1122 - acc: 0.9434 - val_loss: 0.3068 - val_acc: 0.9175\n",
            "Epoch 74/75\n",
            "7352/7352 [==============================] - 28s 4ms/step - loss: 0.0993 - acc: 0.9490 - val_loss: 0.3081 - val_acc: 0.9158\n",
            "Epoch 75/75\n",
            "7352/7352 [==============================] - 29s 4ms/step - loss: 0.0974 - acc: 0.9479 - val_loss: 0.3165 - val_acc: 0.9196\n",
            "CPU times: user 35min 55s, sys: 52.1 s, total: 36min 47s\n",
            "Wall time: 37min 6s\n"
          ],
          "name": "stdout"
        }
      ]
    },
    {
      "metadata": {
        "id": "ZkV5u_uNc0nc",
        "colab_type": "code",
        "colab": {
          "base_uri": "https://localhost:8080/",
          "height": 326
        },
        "outputId": "e073ab16-5f39-4604-fe1a-f52dbdd81f4d"
      },
      "cell_type": "code",
      "source": [
        "# Confusion Matrix\n",
        "print(confusion_matrix(Y_test, model.predict(X_test)))"
      ],
      "execution_count": 74,
      "outputs": [
        {
          "output_type": "stream",
          "text": [
            "Pred                LAYING  SITTING  STANDING  WALKING  WALKING_DOWNSTAIRS  \\\n",
            "True                                                                         \n",
            "LAYING                 537        0         0        0                   0   \n",
            "SITTING                  4      358       126        0                   0   \n",
            "STANDING                 0       57       474        1                   0   \n",
            "WALKING                  0        0         0      467                  29   \n",
            "WALKING_DOWNSTAIRS       0        0         0        3                 413   \n",
            "WALKING_UPSTAIRS         0        0         2        3                   5   \n",
            "\n",
            "Pred                WALKING_UPSTAIRS  \n",
            "True                                  \n",
            "LAYING                             0  \n",
            "SITTING                            3  \n",
            "STANDING                           0  \n",
            "WALKING                            0  \n",
            "WALKING_DOWNSTAIRS                 4  \n",
            "WALKING_UPSTAIRS                 461  \n"
          ],
          "name": "stdout"
        }
      ]
    },
    {
      "metadata": {
        "id": "ixgtTarVc0ld",
        "colab_type": "code",
        "colab": {
          "base_uri": "https://localhost:8080/",
          "height": 397
        },
        "outputId": "1e034820-e1e2-42ca-d518-c501ef74b6d7"
      },
      "cell_type": "code",
      "source": [
        "#ploting graph\n",
        "score = model.evaluate(X_test, Y_test, verbose=0)\n",
        "print('Test loss:', score[0])\n",
        "print('Test accuracy:', score[1])\n",
        "\n",
        "fig,ax = plt.subplots(1,1)\n",
        "ax.set_xlabel('epoch') ; ax.set_ylabel('Categorical Crossentropy Loss')\n",
        "\n",
        "# list of epoch numbers\n",
        "x = list(range(1,epochs+1))\n",
        "\n",
        "vy = history.history['val_loss']\n",
        "ty = history.history['loss']\n",
        "plt_dynamic(x, vy, ty, ax)"
      ],
      "execution_count": 75,
      "outputs": [
        {
          "output_type": "stream",
          "text": [
            "Test loss: 0.3164710504999816\n",
            "Test accuracy: 0.9195792331184255\n"
          ],
          "name": "stdout"
        },
        {
          "output_type": "display_data",
          "data": {
            "image/png": "[encoded data removed]",
            "text/plain": [
              "<Figure size 576x396 with 1 Axes>"
            ]
          },
          "metadata": {
            "tags": []
          }
        }
      ]
    },
    {
      "metadata": {
        "id": "CtfqnH0eUzhx",
        "colab_type": "text"
      },
      "cell_type": "markdown",
      "source": [
        "## Conclusion :\n",
        "\n"
      ]
    },
    {
      "metadata": {
        "id": "Srtc_Qc6fAjK",
        "colab_type": "text"
      },
      "cell_type": "markdown",
      "source": [
        "| Sr.no| No. Of LSTM Layers | Epochs | Optimiser | Accuracy  | Loss|\n",
        "| --------|----------------------------------|--------------|-----------------|------------------|--------| \n",
        "| 1.| 3 (h1=64),(h2=32),(h3=16)|100 | Adam | 92.39%  | 31.9%|\n",
        "| 2.| 2 (h1=64),(h2=32) |50 | Adam | 92.53%  | 25.84%|\n",
        "| 3.| 1 (h1=64) |75 | Adam | 91.95%  | 31.64%|\n",
        "\n"
      ]
    },
    {
      "metadata": {
        "id": "GMvWFwfXlMIY",
        "colab_type": "text"
      },
      "cell_type": "markdown",
      "source": [
        "                                                          ---xxx---"
      ]
    }
  ]
}